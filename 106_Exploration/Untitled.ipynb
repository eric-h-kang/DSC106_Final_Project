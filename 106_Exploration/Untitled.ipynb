{
 "cells": [
  {
   "cell_type": "code",
   "execution_count": 1,
   "metadata": {},
   "outputs": [],
   "source": [
    "import pandas as pd\n",
    "import json\n",
    "from matplotlib import pyplot as plt"
   ]
  },
  {
   "cell_type": "code",
   "execution_count": 2,
   "metadata": {},
   "outputs": [
    {
     "name": "stderr",
     "output_type": "stream",
     "text": [
      "c:\\users\\mark\\appdata\\local\\programs\\python\\python36\\lib\\site-packages\\IPython\\core\\interactiveshell.py:3020: DtypeWarning: Columns (4) have mixed types. Specify dtype option on import or set low_memory=False.\n",
      "  interactivity=interactivity, compiler=compiler, result=result)\n"
     ]
    }
   ],
   "source": [
    "player_rankings = pd.read_csv(\"rankings_1973-2017_csv.csv\")\n",
    "player_rankings = player_rankings.drop(columns=['rank_text'])"
   ]
  },
  {
   "cell_type": "code",
   "execution_count": 3,
   "metadata": {},
   "outputs": [
    {
     "data": {
      "text/html": [
       "<div>\n",
       "<style scoped>\n",
       "    .dataframe tbody tr th:only-of-type {\n",
       "        vertical-align: middle;\n",
       "    }\n",
       "\n",
       "    .dataframe tbody tr th {\n",
       "        vertical-align: top;\n",
       "    }\n",
       "\n",
       "    .dataframe thead th {\n",
       "        text-align: right;\n",
       "    }\n",
       "</style>\n",
       "<table border=\"1\" class=\"dataframe\">\n",
       "  <thead>\n",
       "    <tr style=\"text-align: right;\">\n",
       "      <th></th>\n",
       "      <th>week_title</th>\n",
       "      <th>week_year</th>\n",
       "      <th>week_month</th>\n",
       "      <th>week_day</th>\n",
       "      <th>rank_number</th>\n",
       "      <th>move_positions</th>\n",
       "      <th>move_direction</th>\n",
       "      <th>player_age</th>\n",
       "      <th>ranking_points</th>\n",
       "      <th>tourneys_played</th>\n",
       "      <th>player_url</th>\n",
       "      <th>player_slug</th>\n",
       "      <th>player_id</th>\n",
       "    </tr>\n",
       "  </thead>\n",
       "  <tbody>\n",
       "    <tr>\n",
       "      <th>0</th>\n",
       "      <td>2017.11.20</td>\n",
       "      <td>2017</td>\n",
       "      <td>11</td>\n",
       "      <td>20</td>\n",
       "      <td>1</td>\n",
       "      <td>NaN</td>\n",
       "      <td>NaN</td>\n",
       "      <td>31.0</td>\n",
       "      <td>10645</td>\n",
       "      <td>18</td>\n",
       "      <td>/en/players/rafael-nadal/n409/overview</td>\n",
       "      <td>rafael-nadal</td>\n",
       "      <td>n409</td>\n",
       "    </tr>\n",
       "    <tr>\n",
       "      <th>1</th>\n",
       "      <td>2017.11.20</td>\n",
       "      <td>2017</td>\n",
       "      <td>11</td>\n",
       "      <td>20</td>\n",
       "      <td>2</td>\n",
       "      <td>NaN</td>\n",
       "      <td>NaN</td>\n",
       "      <td>36.0</td>\n",
       "      <td>9605</td>\n",
       "      <td>17</td>\n",
       "      <td>/en/players/roger-federer/f324/overview</td>\n",
       "      <td>roger-federer</td>\n",
       "      <td>f324</td>\n",
       "    </tr>\n",
       "    <tr>\n",
       "      <th>2</th>\n",
       "      <td>2017.11.20</td>\n",
       "      <td>2017</td>\n",
       "      <td>11</td>\n",
       "      <td>20</td>\n",
       "      <td>3</td>\n",
       "      <td>3.0</td>\n",
       "      <td>up</td>\n",
       "      <td>26.0</td>\n",
       "      <td>5150</td>\n",
       "      <td>23</td>\n",
       "      <td>/en/players/grigor-dimitrov/d875/overview</td>\n",
       "      <td>grigor-dimitrov</td>\n",
       "      <td>d875</td>\n",
       "    </tr>\n",
       "    <tr>\n",
       "      <th>3</th>\n",
       "      <td>2017.11.20</td>\n",
       "      <td>2017</td>\n",
       "      <td>11</td>\n",
       "      <td>20</td>\n",
       "      <td>4</td>\n",
       "      <td>1.0</td>\n",
       "      <td>down</td>\n",
       "      <td>20.0</td>\n",
       "      <td>4610</td>\n",
       "      <td>25</td>\n",
       "      <td>/en/players/alexander-zverev/z355/overview</td>\n",
       "      <td>alexander-zverev</td>\n",
       "      <td>z355</td>\n",
       "    </tr>\n",
       "    <tr>\n",
       "      <th>4</th>\n",
       "      <td>2017.11.20</td>\n",
       "      <td>2017</td>\n",
       "      <td>11</td>\n",
       "      <td>20</td>\n",
       "      <td>5</td>\n",
       "      <td>1.0</td>\n",
       "      <td>down</td>\n",
       "      <td>24.0</td>\n",
       "      <td>4015</td>\n",
       "      <td>27</td>\n",
       "      <td>/en/players/dominic-thiem/tb69/overview</td>\n",
       "      <td>dominic-thiem</td>\n",
       "      <td>tb69</td>\n",
       "    </tr>\n",
       "  </tbody>\n",
       "</table>\n",
       "</div>"
      ],
      "text/plain": [
       "   week_title  week_year  week_month  week_day  rank_number  move_positions  \\\n",
       "0  2017.11.20       2017          11        20            1             NaN   \n",
       "1  2017.11.20       2017          11        20            2             NaN   \n",
       "2  2017.11.20       2017          11        20            3             3.0   \n",
       "3  2017.11.20       2017          11        20            4             1.0   \n",
       "4  2017.11.20       2017          11        20            5             1.0   \n",
       "\n",
       "  move_direction  player_age  ranking_points  tourneys_played  \\\n",
       "0            NaN        31.0           10645               18   \n",
       "1            NaN        36.0            9605               17   \n",
       "2             up        26.0            5150               23   \n",
       "3           down        20.0            4610               25   \n",
       "4           down        24.0            4015               27   \n",
       "\n",
       "                                   player_url       player_slug player_id  \n",
       "0      /en/players/rafael-nadal/n409/overview      rafael-nadal      n409  \n",
       "1     /en/players/roger-federer/f324/overview     roger-federer      f324  \n",
       "2   /en/players/grigor-dimitrov/d875/overview   grigor-dimitrov      d875  \n",
       "3  /en/players/alexander-zverev/z355/overview  alexander-zverev      z355  \n",
       "4     /en/players/dominic-thiem/tb69/overview     dominic-thiem      tb69  "
      ]
     },
     "execution_count": 3,
     "metadata": {},
     "output_type": "execute_result"
    }
   ],
   "source": [
    "player_rankings.head()"
   ]
  },
  {
   "cell_type": "code",
   "execution_count": 4,
   "metadata": {},
   "outputs": [],
   "source": [
    "player_overview = pd.read_csv(\"player_overviews_unindexed_csv.csv\")"
   ]
  },
  {
   "cell_type": "code",
   "execution_count": 5,
   "metadata": {},
   "outputs": [
    {
     "data": {
      "text/html": [
       "<div>\n",
       "<style scoped>\n",
       "    .dataframe tbody tr th:only-of-type {\n",
       "        vertical-align: middle;\n",
       "    }\n",
       "\n",
       "    .dataframe tbody tr th {\n",
       "        vertical-align: top;\n",
       "    }\n",
       "\n",
       "    .dataframe thead th {\n",
       "        text-align: right;\n",
       "    }\n",
       "</style>\n",
       "<table border=\"1\" class=\"dataframe\">\n",
       "  <thead>\n",
       "    <tr style=\"text-align: right;\">\n",
       "      <th></th>\n",
       "      <th>player_id</th>\n",
       "      <th>player_slug</th>\n",
       "      <th>first_name</th>\n",
       "      <th>last_name</th>\n",
       "      <th>player_url</th>\n",
       "      <th>flag_code</th>\n",
       "      <th>residence</th>\n",
       "      <th>birthplace</th>\n",
       "      <th>birthdate</th>\n",
       "      <th>birth_year</th>\n",
       "      <th>birth_month</th>\n",
       "      <th>birth_day</th>\n",
       "      <th>turned_pro</th>\n",
       "      <th>weight_lbs</th>\n",
       "      <th>weight_kg</th>\n",
       "      <th>height_ft</th>\n",
       "      <th>height_inches</th>\n",
       "      <th>height_cm</th>\n",
       "      <th>handedness</th>\n",
       "      <th>backhand</th>\n",
       "    </tr>\n",
       "  </thead>\n",
       "  <tbody>\n",
       "    <tr>\n",
       "      <th>0</th>\n",
       "      <td>a002</td>\n",
       "      <td>ricardo-acuna</td>\n",
       "      <td>Ricardo</td>\n",
       "      <td>Acuna</td>\n",
       "      <td>http://www.atpworldtour.com/en/players/ricardo...</td>\n",
       "      <td>CHI</td>\n",
       "      <td>Jupiter, FL, USA</td>\n",
       "      <td>Santiago, Chile</td>\n",
       "      <td>1958.01.13</td>\n",
       "      <td>1958.0</td>\n",
       "      <td>1.0</td>\n",
       "      <td>13.0</td>\n",
       "      <td>0.0</td>\n",
       "      <td>150.0</td>\n",
       "      <td>68.0</td>\n",
       "      <td>5'9\"</td>\n",
       "      <td>69.0</td>\n",
       "      <td>175.0</td>\n",
       "      <td>NaN</td>\n",
       "      <td>NaN</td>\n",
       "    </tr>\n",
       "    <tr>\n",
       "      <th>1</th>\n",
       "      <td>a001</td>\n",
       "      <td>sadiq-abdullahi</td>\n",
       "      <td>Sadiq</td>\n",
       "      <td>Abdullahi</td>\n",
       "      <td>http://www.atpworldtour.com/en/players/sadiq-a...</td>\n",
       "      <td>NGR</td>\n",
       "      <td>NaN</td>\n",
       "      <td>NaN</td>\n",
       "      <td>1960.02.02</td>\n",
       "      <td>1960.0</td>\n",
       "      <td>2.0</td>\n",
       "      <td>2.0</td>\n",
       "      <td>0.0</td>\n",
       "      <td>0.0</td>\n",
       "      <td>0.0</td>\n",
       "      <td>0'0\"</td>\n",
       "      <td>0.0</td>\n",
       "      <td>0.0</td>\n",
       "      <td>NaN</td>\n",
       "      <td>NaN</td>\n",
       "    </tr>\n",
       "    <tr>\n",
       "      <th>2</th>\n",
       "      <td>a005</td>\n",
       "      <td>nelson-aerts</td>\n",
       "      <td>Nelson</td>\n",
       "      <td>Aerts</td>\n",
       "      <td>http://www.atpworldtour.com/en/players/nelson-...</td>\n",
       "      <td>BRA</td>\n",
       "      <td>NaN</td>\n",
       "      <td>Cachoeira Do Sul, Brazil</td>\n",
       "      <td>1963.04.25</td>\n",
       "      <td>1963.0</td>\n",
       "      <td>4.0</td>\n",
       "      <td>25.0</td>\n",
       "      <td>0.0</td>\n",
       "      <td>165.0</td>\n",
       "      <td>75.0</td>\n",
       "      <td>6'2\"</td>\n",
       "      <td>74.0</td>\n",
       "      <td>188.0</td>\n",
       "      <td>NaN</td>\n",
       "      <td>NaN</td>\n",
       "    </tr>\n",
       "    <tr>\n",
       "      <th>3</th>\n",
       "      <td>a004</td>\n",
       "      <td>egan-adams</td>\n",
       "      <td>Egan</td>\n",
       "      <td>Adams</td>\n",
       "      <td>http://www.atpworldtour.com/en/players/egan-ad...</td>\n",
       "      <td>USA</td>\n",
       "      <td>Palmetto, FL, USA</td>\n",
       "      <td>Miami Beach, FL, USA</td>\n",
       "      <td>1959.06.15</td>\n",
       "      <td>1959.0</td>\n",
       "      <td>6.0</td>\n",
       "      <td>15.0</td>\n",
       "      <td>0.0</td>\n",
       "      <td>160.0</td>\n",
       "      <td>73.0</td>\n",
       "      <td>5'10\"</td>\n",
       "      <td>70.0</td>\n",
       "      <td>178.0</td>\n",
       "      <td>NaN</td>\n",
       "      <td>NaN</td>\n",
       "    </tr>\n",
       "    <tr>\n",
       "      <th>4</th>\n",
       "      <td>a006</td>\n",
       "      <td>ronald-agenor</td>\n",
       "      <td>Ronald</td>\n",
       "      <td>Agenor</td>\n",
       "      <td>http://www.atpworldtour.com/en/players/ronald-...</td>\n",
       "      <td>USA</td>\n",
       "      <td>Beverly Hills, California, USA</td>\n",
       "      <td>Rabat, Morocco</td>\n",
       "      <td>1964.11.13</td>\n",
       "      <td>1964.0</td>\n",
       "      <td>11.0</td>\n",
       "      <td>13.0</td>\n",
       "      <td>1983.0</td>\n",
       "      <td>180.0</td>\n",
       "      <td>82.0</td>\n",
       "      <td>5'11\"</td>\n",
       "      <td>71.0</td>\n",
       "      <td>180.0</td>\n",
       "      <td>NaN</td>\n",
       "      <td>NaN</td>\n",
       "    </tr>\n",
       "  </tbody>\n",
       "</table>\n",
       "</div>"
      ],
      "text/plain": [
       "  player_id      player_slug first_name  last_name  \\\n",
       "0      a002    ricardo-acuna    Ricardo      Acuna   \n",
       "1      a001  sadiq-abdullahi      Sadiq  Abdullahi   \n",
       "2      a005     nelson-aerts     Nelson      Aerts   \n",
       "3      a004       egan-adams       Egan      Adams   \n",
       "4      a006    ronald-agenor     Ronald     Agenor   \n",
       "\n",
       "                                          player_url flag_code  \\\n",
       "0  http://www.atpworldtour.com/en/players/ricardo...       CHI   \n",
       "1  http://www.atpworldtour.com/en/players/sadiq-a...       NGR   \n",
       "2  http://www.atpworldtour.com/en/players/nelson-...       BRA   \n",
       "3  http://www.atpworldtour.com/en/players/egan-ad...       USA   \n",
       "4  http://www.atpworldtour.com/en/players/ronald-...       USA   \n",
       "\n",
       "                        residence                birthplace   birthdate  \\\n",
       "0                Jupiter, FL, USA           Santiago, Chile  1958.01.13   \n",
       "1                             NaN                       NaN  1960.02.02   \n",
       "2                             NaN  Cachoeira Do Sul, Brazil  1963.04.25   \n",
       "3               Palmetto, FL, USA      Miami Beach, FL, USA  1959.06.15   \n",
       "4  Beverly Hills, California, USA            Rabat, Morocco  1964.11.13   \n",
       "\n",
       "   birth_year  birth_month  birth_day  turned_pro  weight_lbs  weight_kg  \\\n",
       "0      1958.0          1.0       13.0         0.0       150.0       68.0   \n",
       "1      1960.0          2.0        2.0         0.0         0.0        0.0   \n",
       "2      1963.0          4.0       25.0         0.0       165.0       75.0   \n",
       "3      1959.0          6.0       15.0         0.0       160.0       73.0   \n",
       "4      1964.0         11.0       13.0      1983.0       180.0       82.0   \n",
       "\n",
       "  height_ft  height_inches  height_cm handedness backhand  \n",
       "0      5'9\"           69.0      175.0        NaN      NaN  \n",
       "1      0'0\"            0.0        0.0        NaN      NaN  \n",
       "2      6'2\"           74.0      188.0        NaN      NaN  \n",
       "3     5'10\"           70.0      178.0        NaN      NaN  \n",
       "4     5'11\"           71.0      180.0        NaN      NaN  "
      ]
     },
     "execution_count": 5,
     "metadata": {},
     "output_type": "execute_result"
    }
   ],
   "source": [
    "player_overview.head()"
   ]
  },
  {
   "cell_type": "code",
   "execution_count": 6,
   "metadata": {},
   "outputs": [],
   "source": [
    "joined = player_rankings.merge(player_overview, left_on='player_id', right_on='player_id', how='left')"
   ]
  },
  {
   "cell_type": "code",
   "execution_count": 24,
   "metadata": {},
   "outputs": [
    {
     "data": {
      "text/plain": [
       "(15,)"
      ]
     },
     "execution_count": 24,
     "metadata": {},
     "output_type": "execute_result"
    }
   ],
   "source": [
    "joined['flag_code'][:100].value_counts()[:15].dropna().shape"
   ]
  },
  {
   "cell_type": "code",
   "execution_count": 79,
   "metadata": {},
   "outputs": [
    {
     "data": {
      "text/plain": [
       "<matplotlib.axes._subplots.AxesSubplot at 0x202a37b7080>"
      ]
     },
     "execution_count": 79,
     "metadata": {},
     "output_type": "execute_result"
    },
    {
     "data": {
      "image/png": "[encoded data removed]",
      "text/plain": [
       "<Figure size 432x288 with 1 Axes>"
      ]
     },
     "metadata": {
      "needs_background": "light"
     },
     "output_type": "display_data"
    }
   ],
   "source": [
    "joined['flag_code'][101:].value_counts()[:15].plot(kind='bar')"
   ]
  },
  {
   "cell_type": "code",
   "execution_count": 68,
   "metadata": {},
   "outputs": [],
   "source": [
    "flag_grouped = joined.groupby(['flag_code']).count()"
   ]
  },
  {
   "cell_type": "code",
   "execution_count": 96,
   "metadata": {},
   "outputs": [
    {
     "data": {
      "text/plain": [
       "'{\"FRA\":10,\"USA\":9,\"GER\":8,\"ESP\":8,\"ARG\":7,\"SRB\":5,\"RUS\":5,\"ITA\":4,\"GBR\":3,\"CRO\":3,\"AUS\":3,\"JPN\":3,\"BEL\":2,\"CAN\":2,\"AUT\":2}'"
      ]
     },
     "execution_count": 96,
     "metadata": {},
     "output_type": "execute_result"
    }
   ],
   "source": [
    "joined['flag_code'][:100].value_counts()[:15].to_json(orient='index')"
   ]
  },
  {
   "cell_type": "code",
   "execution_count": 25,
   "metadata": {},
   "outputs": [],
   "source": [
    "def top100_to_json():\n",
    "    my_dict = {}\n",
    "    for i in range(1973, 2018):\n",
    "        by_year = (joined.loc[joined['week_year'] == i]).iloc[:2000,:]\n",
    "        counts = joined['flag_code'][:100].value_counts()[:15].dropna()\n",
    "        json_decoded = json.loads(counts.to_json(orient='index'))\n",
    "        \n",
    "        my_dict[i] = json_decoded\n",
    "        \n",
    "    with open('top100_players.json', 'w') as json_file:\n",
    "        json.dump(my_dict, json_file)\n",
    "    "
   ]
  },
  {
   "cell_type": "code",
   "execution_count": 26,
   "metadata": {},
   "outputs": [],
   "source": [
    "top100_to_json()\n",
    "    "
   ]
  },
  {
   "cell_type": "code",
   "execution_count": null,
   "metadata": {},
   "outputs": [],
   "source": []
  }
 ],
 "metadata": {
  "kernelspec": {
   "display_name": "Python 3",
   "language": "python",
   "name": "python3"
  },
  "language_info": {
   "codemirror_mode": {
    "name": "ipython",
    "version": 3
   },
   "file_extension": ".py",
   "mimetype": "text/x-python",
   "name": "python",
   "nbconvert_exporter": "python",
   "pygments_lexer": "ipython3",
   "version": "3.6.2"
  }
 },
 "nbformat": 4,
 "nbformat_minor": 2
}
